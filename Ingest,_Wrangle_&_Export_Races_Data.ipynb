{
  "nbformat": 4,
  "nbformat_minor": 0,
  "metadata": {
    "colab": {
      "provenance": [],
      "authorship_tag": "ABX9TyO7/M3u0k0a7hA+0Rtst0QM",
      "include_colab_link": true
    },
    "kernelspec": {
      "name": "python3",
      "display_name": "Python 3"
    },
    "language_info": {
      "name": "python"
    }
  },
  "cells": [
    {
      "cell_type": "markdown",
      "metadata": {
        "id": "view-in-github",
        "colab_type": "text"
      },
      "source": [
        "<a href=\"https://colab.research.google.com/github/aks-vijay/Apache-Spark/blob/main/Ingest%2C_Wrangle_%26_Export_Races_Data.ipynb\" target=\"_parent\"><img src=\"https://colab.research.google.com/assets/colab-badge.svg\" alt=\"Open In Colab\"/></a>"
      ]
    },
    {
      "cell_type": "code",
      "source": [
        "!pip install spark\n",
        "!pip install pyspark"
      ],
      "metadata": {
        "colab": {
          "base_uri": "https://localhost:8080/"
        },
        "id": "BN28T7SXeknm",
        "outputId": "340dbe56-2ad2-4b76-b800-758bba4839af"
      },
      "execution_count": 1,
      "outputs": [
        {
          "output_type": "stream",
          "name": "stdout",
          "text": [
            "Collecting spark\n",
            "  Downloading spark-0.2.1.tar.gz (41 kB)\n",
            "\u001b[2K     \u001b[90m━━━━━━━━━━━━━━━━━━━━━━━━━━━━━━━━━━━━━━━━\u001b[0m \u001b[32m41.0/41.0 kB\u001b[0m \u001b[31m609.7 kB/s\u001b[0m eta \u001b[36m0:00:00\u001b[0m\n",
            "\u001b[?25h  Preparing metadata (setup.py) ... \u001b[?25l\u001b[?25hdone\n",
            "Building wheels for collected packages: spark\n",
            "  Building wheel for spark (setup.py) ... \u001b[?25l\u001b[?25hdone\n",
            "  Created wheel for spark: filename=spark-0.2.1-py3-none-any.whl size=58749 sha256=8fb51b7fe1208aa9a2475db4693e73ddd59d2e9ac3a64a3fbefe93d0d0d8bda1\n",
            "  Stored in directory: /root/.cache/pip/wheels/63/88/77/b4131110ea4094540f7b47c6d62a649807d7e94800da5eab0b\n",
            "Successfully built spark\n",
            "Installing collected packages: spark\n",
            "Successfully installed spark-0.2.1\n",
            "Collecting pyspark\n",
            "  Downloading pyspark-3.5.1.tar.gz (317.0 MB)\n",
            "\u001b[2K     \u001b[90m━━━━━━━━━━━━━━━━━━━━━━━━━━━━━━━━━━━━━━━━\u001b[0m \u001b[32m317.0/317.0 MB\u001b[0m \u001b[31m3.7 MB/s\u001b[0m eta \u001b[36m0:00:00\u001b[0m\n",
            "\u001b[?25h  Preparing metadata (setup.py) ... \u001b[?25l\u001b[?25hdone\n",
            "Requirement already satisfied: py4j==0.10.9.7 in /usr/local/lib/python3.10/dist-packages (from pyspark) (0.10.9.7)\n",
            "Building wheels for collected packages: pyspark\n",
            "  Building wheel for pyspark (setup.py) ... \u001b[?25l\u001b[?25hdone\n",
            "  Created wheel for pyspark: filename=pyspark-3.5.1-py2.py3-none-any.whl size=317488491 sha256=b023574d30c29316785a5292c98e2f529f02af36a041a7916f320f2fb518fc15\n",
            "  Stored in directory: /root/.cache/pip/wheels/80/1d/60/2c256ed38dddce2fdd93be545214a63e02fbd8d74fb0b7f3a6\n",
            "Successfully built pyspark\n",
            "Installing collected packages: pyspark\n",
            "Successfully installed pyspark-3.5.1\n"
          ]
        }
      ]
    },
    {
      "cell_type": "code",
      "execution_count": 2,
      "metadata": {
        "id": "VQOA5ucVsCA8"
      },
      "outputs": [],
      "source": [
        "from pyspark.sql import SparkSession\n",
        "spark = SparkSession  \\\n",
        "          .builder \\\n",
        "          .appName(\"MyLocalSparkApp\") \\\n",
        "          .master(\"local[*]\") \\\n",
        "          .getOrCreate()"
      ]
    },
    {
      "cell_type": "code",
      "source": [
        "from google.colab import files\n",
        "uploaded = files.upload()"
      ],
      "metadata": {
        "colab": {
          "base_uri": "https://localhost:8080/",
          "height": 73
        },
        "id": "zWF_-573ttRT",
        "outputId": "0ab9822e-0a65-41ae-c25b-cba37030e1ad"
      },
      "execution_count": 3,
      "outputs": [
        {
          "output_type": "display_data",
          "data": {
            "text/plain": [
              "<IPython.core.display.HTML object>"
            ],
            "text/html": [
              "\n",
              "     <input type=\"file\" id=\"files-84ba3511-802e-4301-b59c-a3edeeea6910\" name=\"files[]\" multiple disabled\n",
              "        style=\"border:none\" />\n",
              "     <output id=\"result-84ba3511-802e-4301-b59c-a3edeeea6910\">\n",
              "      Upload widget is only available when the cell has been executed in the\n",
              "      current browser session. Please rerun this cell to enable.\n",
              "      </output>\n",
              "      <script>// Copyright 2017 Google LLC\n",
              "//\n",
              "// Licensed under the Apache License, Version 2.0 (the \"License\");\n",
              "// you may not use this file except in compliance with the License.\n",
              "// You may obtain a copy of the License at\n",
              "//\n",
              "//      http://www.apache.org/licenses/LICENSE-2.0\n",
              "//\n",
              "// Unless required by applicable law or agreed to in writing, software\n",
              "// distributed under the License is distributed on an \"AS IS\" BASIS,\n",
              "// WITHOUT WARRANTIES OR CONDITIONS OF ANY KIND, either express or implied.\n",
              "// See the License for the specific language governing permissions and\n",
              "// limitations under the License.\n",
              "\n",
              "/**\n",
              " * @fileoverview Helpers for google.colab Python module.\n",
              " */\n",
              "(function(scope) {\n",
              "function span(text, styleAttributes = {}) {\n",
              "  const element = document.createElement('span');\n",
              "  element.textContent = text;\n",
              "  for (const key of Object.keys(styleAttributes)) {\n",
              "    element.style[key] = styleAttributes[key];\n",
              "  }\n",
              "  return element;\n",
              "}\n",
              "\n",
              "// Max number of bytes which will be uploaded at a time.\n",
              "const MAX_PAYLOAD_SIZE = 100 * 1024;\n",
              "\n",
              "function _uploadFiles(inputId, outputId) {\n",
              "  const steps = uploadFilesStep(inputId, outputId);\n",
              "  const outputElement = document.getElementById(outputId);\n",
              "  // Cache steps on the outputElement to make it available for the next call\n",
              "  // to uploadFilesContinue from Python.\n",
              "  outputElement.steps = steps;\n",
              "\n",
              "  return _uploadFilesContinue(outputId);\n",
              "}\n",
              "\n",
              "// This is roughly an async generator (not supported in the browser yet),\n",
              "// where there are multiple asynchronous steps and the Python side is going\n",
              "// to poll for completion of each step.\n",
              "// This uses a Promise to block the python side on completion of each step,\n",
              "// then passes the result of the previous step as the input to the next step.\n",
              "function _uploadFilesContinue(outputId) {\n",
              "  const outputElement = document.getElementById(outputId);\n",
              "  const steps = outputElement.steps;\n",
              "\n",
              "  const next = steps.next(outputElement.lastPromiseValue);\n",
              "  return Promise.resolve(next.value.promise).then((value) => {\n",
              "    // Cache the last promise value to make it available to the next\n",
              "    // step of the generator.\n",
              "    outputElement.lastPromiseValue = value;\n",
              "    return next.value.response;\n",
              "  });\n",
              "}\n",
              "\n",
              "/**\n",
              " * Generator function which is called between each async step of the upload\n",
              " * process.\n",
              " * @param {string} inputId Element ID of the input file picker element.\n",
              " * @param {string} outputId Element ID of the output display.\n",
              " * @return {!Iterable<!Object>} Iterable of next steps.\n",
              " */\n",
              "function* uploadFilesStep(inputId, outputId) {\n",
              "  const inputElement = document.getElementById(inputId);\n",
              "  inputElement.disabled = false;\n",
              "\n",
              "  const outputElement = document.getElementById(outputId);\n",
              "  outputElement.innerHTML = '';\n",
              "\n",
              "  const pickedPromise = new Promise((resolve) => {\n",
              "    inputElement.addEventListener('change', (e) => {\n",
              "      resolve(e.target.files);\n",
              "    });\n",
              "  });\n",
              "\n",
              "  const cancel = document.createElement('button');\n",
              "  inputElement.parentElement.appendChild(cancel);\n",
              "  cancel.textContent = 'Cancel upload';\n",
              "  const cancelPromise = new Promise((resolve) => {\n",
              "    cancel.onclick = () => {\n",
              "      resolve(null);\n",
              "    };\n",
              "  });\n",
              "\n",
              "  // Wait for the user to pick the files.\n",
              "  const files = yield {\n",
              "    promise: Promise.race([pickedPromise, cancelPromise]),\n",
              "    response: {\n",
              "      action: 'starting',\n",
              "    }\n",
              "  };\n",
              "\n",
              "  cancel.remove();\n",
              "\n",
              "  // Disable the input element since further picks are not allowed.\n",
              "  inputElement.disabled = true;\n",
              "\n",
              "  if (!files) {\n",
              "    return {\n",
              "      response: {\n",
              "        action: 'complete',\n",
              "      }\n",
              "    };\n",
              "  }\n",
              "\n",
              "  for (const file of files) {\n",
              "    const li = document.createElement('li');\n",
              "    li.append(span(file.name, {fontWeight: 'bold'}));\n",
              "    li.append(span(\n",
              "        `(${file.type || 'n/a'}) - ${file.size} bytes, ` +\n",
              "        `last modified: ${\n",
              "            file.lastModifiedDate ? file.lastModifiedDate.toLocaleDateString() :\n",
              "                                    'n/a'} - `));\n",
              "    const percent = span('0% done');\n",
              "    li.appendChild(percent);\n",
              "\n",
              "    outputElement.appendChild(li);\n",
              "\n",
              "    const fileDataPromise = new Promise((resolve) => {\n",
              "      const reader = new FileReader();\n",
              "      reader.onload = (e) => {\n",
              "        resolve(e.target.result);\n",
              "      };\n",
              "      reader.readAsArrayBuffer(file);\n",
              "    });\n",
              "    // Wait for the data to be ready.\n",
              "    let fileData = yield {\n",
              "      promise: fileDataPromise,\n",
              "      response: {\n",
              "        action: 'continue',\n",
              "      }\n",
              "    };\n",
              "\n",
              "    // Use a chunked sending to avoid message size limits. See b/62115660.\n",
              "    let position = 0;\n",
              "    do {\n",
              "      const length = Math.min(fileData.byteLength - position, MAX_PAYLOAD_SIZE);\n",
              "      const chunk = new Uint8Array(fileData, position, length);\n",
              "      position += length;\n",
              "\n",
              "      const base64 = btoa(String.fromCharCode.apply(null, chunk));\n",
              "      yield {\n",
              "        response: {\n",
              "          action: 'append',\n",
              "          file: file.name,\n",
              "          data: base64,\n",
              "        },\n",
              "      };\n",
              "\n",
              "      let percentDone = fileData.byteLength === 0 ?\n",
              "          100 :\n",
              "          Math.round((position / fileData.byteLength) * 100);\n",
              "      percent.textContent = `${percentDone}% done`;\n",
              "\n",
              "    } while (position < fileData.byteLength);\n",
              "  }\n",
              "\n",
              "  // All done.\n",
              "  yield {\n",
              "    response: {\n",
              "      action: 'complete',\n",
              "    }\n",
              "  };\n",
              "}\n",
              "\n",
              "scope.google = scope.google || {};\n",
              "scope.google.colab = scope.google.colab || {};\n",
              "scope.google.colab._files = {\n",
              "  _uploadFiles,\n",
              "  _uploadFilesContinue,\n",
              "};\n",
              "})(self);\n",
              "</script> "
            ]
          },
          "metadata": {}
        },
        {
          "output_type": "stream",
          "name": "stdout",
          "text": [
            "Saving circuits.csv to circuits.csv\n"
          ]
        }
      ]
    },
    {
      "cell_type": "code",
      "source": [
        "from google.colab import files\n",
        "uploaded = files.upload()"
      ],
      "metadata": {
        "colab": {
          "base_uri": "https://localhost:8080/",
          "height": 73
        },
        "id": "JhPyXtSczk79",
        "outputId": "f5a3f8a7-1ecc-454b-fce3-cb175215f156"
      },
      "execution_count": 4,
      "outputs": [
        {
          "output_type": "display_data",
          "data": {
            "text/plain": [
              "<IPython.core.display.HTML object>"
            ],
            "text/html": [
              "\n",
              "     <input type=\"file\" id=\"files-23ff8d62-54da-4726-81d0-fe750193fb75\" name=\"files[]\" multiple disabled\n",
              "        style=\"border:none\" />\n",
              "     <output id=\"result-23ff8d62-54da-4726-81d0-fe750193fb75\">\n",
              "      Upload widget is only available when the cell has been executed in the\n",
              "      current browser session. Please rerun this cell to enable.\n",
              "      </output>\n",
              "      <script>// Copyright 2017 Google LLC\n",
              "//\n",
              "// Licensed under the Apache License, Version 2.0 (the \"License\");\n",
              "// you may not use this file except in compliance with the License.\n",
              "// You may obtain a copy of the License at\n",
              "//\n",
              "//      http://www.apache.org/licenses/LICENSE-2.0\n",
              "//\n",
              "// Unless required by applicable law or agreed to in writing, software\n",
              "// distributed under the License is distributed on an \"AS IS\" BASIS,\n",
              "// WITHOUT WARRANTIES OR CONDITIONS OF ANY KIND, either express or implied.\n",
              "// See the License for the specific language governing permissions and\n",
              "// limitations under the License.\n",
              "\n",
              "/**\n",
              " * @fileoverview Helpers for google.colab Python module.\n",
              " */\n",
              "(function(scope) {\n",
              "function span(text, styleAttributes = {}) {\n",
              "  const element = document.createElement('span');\n",
              "  element.textContent = text;\n",
              "  for (const key of Object.keys(styleAttributes)) {\n",
              "    element.style[key] = styleAttributes[key];\n",
              "  }\n",
              "  return element;\n",
              "}\n",
              "\n",
              "// Max number of bytes which will be uploaded at a time.\n",
              "const MAX_PAYLOAD_SIZE = 100 * 1024;\n",
              "\n",
              "function _uploadFiles(inputId, outputId) {\n",
              "  const steps = uploadFilesStep(inputId, outputId);\n",
              "  const outputElement = document.getElementById(outputId);\n",
              "  // Cache steps on the outputElement to make it available for the next call\n",
              "  // to uploadFilesContinue from Python.\n",
              "  outputElement.steps = steps;\n",
              "\n",
              "  return _uploadFilesContinue(outputId);\n",
              "}\n",
              "\n",
              "// This is roughly an async generator (not supported in the browser yet),\n",
              "// where there are multiple asynchronous steps and the Python side is going\n",
              "// to poll for completion of each step.\n",
              "// This uses a Promise to block the python side on completion of each step,\n",
              "// then passes the result of the previous step as the input to the next step.\n",
              "function _uploadFilesContinue(outputId) {\n",
              "  const outputElement = document.getElementById(outputId);\n",
              "  const steps = outputElement.steps;\n",
              "\n",
              "  const next = steps.next(outputElement.lastPromiseValue);\n",
              "  return Promise.resolve(next.value.promise).then((value) => {\n",
              "    // Cache the last promise value to make it available to the next\n",
              "    // step of the generator.\n",
              "    outputElement.lastPromiseValue = value;\n",
              "    return next.value.response;\n",
              "  });\n",
              "}\n",
              "\n",
              "/**\n",
              " * Generator function which is called between each async step of the upload\n",
              " * process.\n",
              " * @param {string} inputId Element ID of the input file picker element.\n",
              " * @param {string} outputId Element ID of the output display.\n",
              " * @return {!Iterable<!Object>} Iterable of next steps.\n",
              " */\n",
              "function* uploadFilesStep(inputId, outputId) {\n",
              "  const inputElement = document.getElementById(inputId);\n",
              "  inputElement.disabled = false;\n",
              "\n",
              "  const outputElement = document.getElementById(outputId);\n",
              "  outputElement.innerHTML = '';\n",
              "\n",
              "  const pickedPromise = new Promise((resolve) => {\n",
              "    inputElement.addEventListener('change', (e) => {\n",
              "      resolve(e.target.files);\n",
              "    });\n",
              "  });\n",
              "\n",
              "  const cancel = document.createElement('button');\n",
              "  inputElement.parentElement.appendChild(cancel);\n",
              "  cancel.textContent = 'Cancel upload';\n",
              "  const cancelPromise = new Promise((resolve) => {\n",
              "    cancel.onclick = () => {\n",
              "      resolve(null);\n",
              "    };\n",
              "  });\n",
              "\n",
              "  // Wait for the user to pick the files.\n",
              "  const files = yield {\n",
              "    promise: Promise.race([pickedPromise, cancelPromise]),\n",
              "    response: {\n",
              "      action: 'starting',\n",
              "    }\n",
              "  };\n",
              "\n",
              "  cancel.remove();\n",
              "\n",
              "  // Disable the input element since further picks are not allowed.\n",
              "  inputElement.disabled = true;\n",
              "\n",
              "  if (!files) {\n",
              "    return {\n",
              "      response: {\n",
              "        action: 'complete',\n",
              "      }\n",
              "    };\n",
              "  }\n",
              "\n",
              "  for (const file of files) {\n",
              "    const li = document.createElement('li');\n",
              "    li.append(span(file.name, {fontWeight: 'bold'}));\n",
              "    li.append(span(\n",
              "        `(${file.type || 'n/a'}) - ${file.size} bytes, ` +\n",
              "        `last modified: ${\n",
              "            file.lastModifiedDate ? file.lastModifiedDate.toLocaleDateString() :\n",
              "                                    'n/a'} - `));\n",
              "    const percent = span('0% done');\n",
              "    li.appendChild(percent);\n",
              "\n",
              "    outputElement.appendChild(li);\n",
              "\n",
              "    const fileDataPromise = new Promise((resolve) => {\n",
              "      const reader = new FileReader();\n",
              "      reader.onload = (e) => {\n",
              "        resolve(e.target.result);\n",
              "      };\n",
              "      reader.readAsArrayBuffer(file);\n",
              "    });\n",
              "    // Wait for the data to be ready.\n",
              "    let fileData = yield {\n",
              "      promise: fileDataPromise,\n",
              "      response: {\n",
              "        action: 'continue',\n",
              "      }\n",
              "    };\n",
              "\n",
              "    // Use a chunked sending to avoid message size limits. See b/62115660.\n",
              "    let position = 0;\n",
              "    do {\n",
              "      const length = Math.min(fileData.byteLength - position, MAX_PAYLOAD_SIZE);\n",
              "      const chunk = new Uint8Array(fileData, position, length);\n",
              "      position += length;\n",
              "\n",
              "      const base64 = btoa(String.fromCharCode.apply(null, chunk));\n",
              "      yield {\n",
              "        response: {\n",
              "          action: 'append',\n",
              "          file: file.name,\n",
              "          data: base64,\n",
              "        },\n",
              "      };\n",
              "\n",
              "      let percentDone = fileData.byteLength === 0 ?\n",
              "          100 :\n",
              "          Math.round((position / fileData.byteLength) * 100);\n",
              "      percent.textContent = `${percentDone}% done`;\n",
              "\n",
              "    } while (position < fileData.byteLength);\n",
              "  }\n",
              "\n",
              "  // All done.\n",
              "  yield {\n",
              "    response: {\n",
              "      action: 'complete',\n",
              "    }\n",
              "  };\n",
              "}\n",
              "\n",
              "scope.google = scope.google || {};\n",
              "scope.google.colab = scope.google.colab || {};\n",
              "scope.google.colab._files = {\n",
              "  _uploadFiles,\n",
              "  _uploadFilesContinue,\n",
              "};\n",
              "})(self);\n",
              "</script> "
            ]
          },
          "metadata": {}
        },
        {
          "output_type": "stream",
          "name": "stdout",
          "text": [
            "Saving races.csv to races.csv\n"
          ]
        }
      ]
    },
    {
      "cell_type": "markdown",
      "source": [
        "# Ingest data to Spark Dataframes"
      ],
      "metadata": {
        "id": "kifmw4wbDWpW"
      }
    },
    {
      "cell_type": "code",
      "source": [],
      "metadata": {
        "id": "d16IClycfEwe"
      },
      "execution_count": 5,
      "outputs": []
    },
    {
      "cell_type": "code",
      "source": [
        "# load the file\n",
        "from pyspark.sql.types import *\n",
        "\n",
        "circuits_user_defined_schema = StructType(fields=\n",
        "                                 [StructField('circuitId', IntegerType(), True),\n",
        "                                  StructField('circuitRef', StringType(), True),\n",
        "                                  StructField('name', StringType(), True),\n",
        "                                  StructField('location', StringType(), True),\n",
        "                                  StructField('country', StringType(), True),\n",
        "                                  StructField('lat', DoubleType(), True),\n",
        "                                  StructField('lng', DoubleType(), True),\n",
        "                                  StructField('alt', IntegerType(), True),\n",
        "                                  StructField('url', StringType(), True)\n",
        "                                  ])\n",
        "df_circuits = spark.read \\\n",
        "  .schema(schema=circuits_user_defined_schema) \\\n",
        "  .option(\"header\", True) \\\n",
        "  .csv('circuits.csv')\n",
        "\n",
        "races_user_defined_schema = StructType(fields=\n",
        "                                        [StructField('raceId', IntegerType(), True),\n",
        "                                          StructField('year', IntegerType(), True),\n",
        "                                          StructField('round', IntegerType(), True),\n",
        "                                          StructField('circuitId', IntegerType(), True),\n",
        "                                          StructField('name', StringType(), True),\n",
        "                                          StructField('date', DateType(), True),\n",
        "                                          StructField('time', StringType(), True),\n",
        "                                          StructField('url', StringType(), True)]\n",
        "                                       )\n",
        "df_races = spark.read \\\n",
        "            .schema(schema=races_user_defined_schema) \\\n",
        "            .option(\"header\", True) \\\n",
        "            .csv(\"races.csv\")"
      ],
      "metadata": {
        "id": "5a8USlKBtBWI"
      },
      "execution_count": 9,
      "outputs": []
    },
    {
      "cell_type": "markdown",
      "source": [
        "# Check for any duplicates"
      ],
      "metadata": {
        "id": "9xL10pkPDQ2r"
      }
    },
    {
      "cell_type": "code",
      "source": [
        "# check for duplicates\n",
        "df_circuits.exceptAll(df_circuits.dropDuplicates()).show()\n",
        "df_races.exceptAll(df_races.dropDuplicates()).show()"
      ],
      "metadata": {
        "colab": {
          "base_uri": "https://localhost:8080/"
        },
        "id": "GiXbto-y5qhb",
        "outputId": "ff0bb492-a68b-44aa-9b41-1b7d47729aa9"
      },
      "execution_count": 11,
      "outputs": [
        {
          "output_type": "stream",
          "name": "stdout",
          "text": [
            "+---------+----------+----+--------+-------+---+---+---+---+\n",
            "|circuitId|circuitRef|name|location|country|lat|lng|alt|url|\n",
            "+---------+----------+----+--------+-------+---+---+---+---+\n",
            "+---------+----------+----+--------+-------+---+---+---+---+\n",
            "\n",
            "+------+----+-----+---------+----+----+----+---+\n",
            "|raceId|year|round|circuitId|name|date|time|url|\n",
            "+------+----+-----+---------+----+----+----+---+\n",
            "+------+----+-----+---------+----+----+----+---+\n",
            "\n"
          ]
        }
      ]
    },
    {
      "cell_type": "markdown",
      "source": [
        "# Create Lookup Table for Country Codes Mapping"
      ],
      "metadata": {
        "id": "8BQnYjXDDIx_"
      }
    },
    {
      "cell_type": "code",
      "source": [
        "# create mapping for country codes\n",
        "\n",
        "country_codes = {\n",
        "    \"Russia\": \"RU\",\n",
        "    \"Sweden\": \"SE\",\n",
        "    \"Malaysia\": \"MY\",\n",
        "    \"Singapore\": \"SG\",\n",
        "    \"Turkey\": \"TR\",\n",
        "    \"Germany\": \"DE\",\n",
        "    \"France\": \"FR\",\n",
        "    \"Argentina\": \"AR\",\n",
        "    \"Belgium\": \"BE\",\n",
        "    \"China\": \"CN\",\n",
        "    \"India\": \"IN\",\n",
        "    \"Italy\": \"IT\",\n",
        "    \"Spain\": \"ES\",\n",
        "    \"Monaco\": \"MC\",\n",
        "    \"Morocco\": \"MA\",\n",
        "    \"USA\": \"US\",\n",
        "    \"Mexico\": \"MX\",\n",
        "    \"Azerbaijan\": \"AZ\",\n",
        "    \"UK\": \"UK\",\n",
        "    \"Saudi Arabia\": \"SA\"\n",
        "}\n",
        "\n",
        "country_codes_lists = list(country_codes.items())\n",
        "country_codes_lookup = spark.createDataFrame(country_codes_lists, schema=[\"country\", \"country_codes\"])"
      ],
      "metadata": {
        "id": "STIcno4i2SwF"
      },
      "execution_count": 39,
      "outputs": []
    },
    {
      "cell_type": "markdown",
      "source": [
        "# Clean the dataframes for Reporting"
      ],
      "metadata": {
        "id": "u5ENrvkADBx0"
      }
    },
    {
      "cell_type": "code",
      "source": [
        "df_races_cleaned = df_races \\\n",
        "                    .withColumnRenamed(\"raceId\", \"race_id\") \\\n",
        "                    .withColumnRenamed(\"circuitId\", \"circuit_id\") \\\n",
        "                    .withColumn(\"race_date_time\", concat(col(\"date\"), lit(\" \"), col(\"time\"))) \\\n",
        "                    .drop(\"date\", col(\"time\")) \\\n",
        "                    .withColumn(\"ingestion_date\", current_timestamp())\n",
        "\n",
        "columns_to_select = [\"circuit_id\", \"circuit_ref\", \"name\", \"location\", \"country\", \"location_and_country\", \"lat\", \"lng\", \"alt\", \"url\"]\n",
        "\n",
        "df_circuits_cleaned = df_circuits \\\n",
        "                        .withColumnRenamed(\"circuitId\", \"circuit_id\") \\\n",
        "                        .withColumnRenamed(\"circuitRef\", \"circuit_ref\") \\\n",
        "                        .withColumn(\"location_and_country\", concat(col(\"location\"), lit(\", \"), col(\"country\"))) \\\n",
        "                        .join(country_codes_lookup, df_circuits.country==country_codes_lookup.country, \"inner\") \\\n",
        "                        .drop(df_circuits[\"country\"], country_codes_lookup[\"country\"]) \\\n",
        "                        .withColumnRenamed(\"country_codes\", \"country\") \\\n",
        "                        .select(*columns_to_select)\n",
        "\n",
        "\n",
        "df_races_circuits_cleaned = df_races_cleaned \\\n",
        "                              .join(df_circuits_cleaned, df_races_cleaned.circuit_id == df_circuits_cleaned.circuit_id, \"inner\") \\\n",
        "                              .select(df_races_cleaned.race_id,\n",
        "                                      df_races_cleaned.year.alias(\"race_year\"),\n",
        "                                      df_races_cleaned.round,\n",
        "                                      df_races_cleaned.circuit_id,\n",
        "                                      df_races_cleaned.name.alias(\"race_name\"),\n",
        "                                      df_races_cleaned.race_date_time,\n",
        "                                      df_circuits_cleaned.name.alias(\"circuit_name\"),\n",
        "                                      df_circuits_cleaned.location.alias(\"circuit_location\"),\n",
        "                                      df_circuits_cleaned.country.alias(\"circuit_country\"),\n",
        "                                      df_circuits_cleaned.lat.alias(\"latitude\"),\n",
        "                                      df_circuits_cleaned.lng.alias(\"longitude\"),\n",
        "                                      df_races_cleaned.url.alias(\"race_url\"),\n",
        "                                      df_circuits_cleaned.url.alias(\"circuit_url\"),\n",
        "                                      df_races_cleaned.ingestion_date)"
      ],
      "metadata": {
        "id": "-Mu-Ccfm0-eD"
      },
      "execution_count": 61,
      "outputs": []
    },
    {
      "cell_type": "markdown",
      "source": [
        "# Functions to Answer business questions for Analytics teams"
      ],
      "metadata": {
        "id": "yKMPofgxBDml"
      }
    },
    {
      "cell_type": "code",
      "source": [
        "# function to answer business questions\n",
        "# Total races occured per Country by Year\n",
        "def total_races_per_country(year) -> DataFrame:\n",
        "  df_races_circuits_cleaned \\\n",
        "      .where(col(\"race_year\") == year) \\\n",
        "      .groupBy(\"circuit_country\") \\\n",
        "      .agg(\n",
        "          count(\"*\").alias(\"total_races_per_country\")\n",
        "      ) \\\n",
        "      .orderBy(\"total_races_per_country\", ascending=False) \\\n",
        "      .show()\n",
        "\n",
        "def select_race_by_country(country_code, limit_value=5) -> DataFrame:\n",
        "  df_races_circuits_cleaned \\\n",
        "    .where(col(\"circuit_country\") == country_code) \\\n",
        "    .show(limit_value, truncate=False)\n",
        "\n",
        "def races_count_by_country(country) -> int:\n",
        "  count = df_races_circuits_cleaned \\\n",
        "            .where(col(\"circuit_country\") == country) \\\n",
        "            .count()\n",
        "\n",
        "  return count\n",
        "\n",
        "# total_races_per_country(2021)\n",
        "# select_race_by_country(\"UK\")\n",
        "# races_count_by_country(\"US\")"
      ],
      "metadata": {
        "id": "buhvCiNI10YT"
      },
      "execution_count": null,
      "outputs": []
    },
    {
      "cell_type": "markdown",
      "source": [
        "# Write the cleaned dataframe for Downstream Reporting"
      ],
      "metadata": {
        "id": "pGkKhFe6Cnk8"
      }
    },
    {
      "cell_type": "code",
      "source": [
        "df_races_circuits_cleaned.write \\\n",
        "  .mode(\"overwrite\") \\\n",
        "  .csv(\"races_by_circuits_cleaned\")"
      ],
      "metadata": {
        "id": "cO1CeLKlCs0b"
      },
      "execution_count": 104,
      "outputs": []
    },
    {
      "cell_type": "code",
      "source": [
        "spark.stop()"
      ],
      "metadata": {
        "id": "XhkkwJNFiYSI"
      },
      "execution_count": 74,
      "outputs": []
    },
    {
      "cell_type": "markdown",
      "source": [],
      "metadata": {
        "id": "ac0C97onCmQB"
      }
    },
    {
      "cell_type": "code",
      "source": [],
      "metadata": {
        "id": "jSOBv3S8jR_x"
      },
      "execution_count": null,
      "outputs": []
    }
  ]
}